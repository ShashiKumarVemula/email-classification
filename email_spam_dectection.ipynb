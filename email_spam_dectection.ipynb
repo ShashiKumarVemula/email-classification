{
 "cells": [
  {
   "cell_type": "code",
   "execution_count": 1,
   "id": "fcadc030",
   "metadata": {},
   "outputs": [],
   "source": [
    "import numpy as np\n",
    "import pandas as pd\n",
    "from sklearn.model_selection import train_test_split\n",
    "from sklearn.feature_extraction.text import TfidfVectorizer\n",
    "from sklearn.linear_model import LogisticRegression\n",
    "from sklearn.metrics import accuracy_score"
   ]
  },
  {
   "cell_type": "code",
   "execution_count": 2,
   "id": "b08d63f4",
   "metadata": {},
   "outputs": [],
   "source": [
    "import matplotlib.pyplot as plt\n",
    "%matplotlib inline"
   ]
  },
  {
   "cell_type": "code",
   "execution_count": 3,
   "id": "4e875a65",
   "metadata": {},
   "outputs": [
    {
     "data": {
      "text/html": [
       "<div>\n",
       "<style scoped>\n",
       "    .dataframe tbody tr th:only-of-type {\n",
       "        vertical-align: middle;\n",
       "    }\n",
       "\n",
       "    .dataframe tbody tr th {\n",
       "        vertical-align: top;\n",
       "    }\n",
       "\n",
       "    .dataframe thead th {\n",
       "        text-align: right;\n",
       "    }\n",
       "</style>\n",
       "<table border=\"1\" class=\"dataframe\">\n",
       "  <thead>\n",
       "    <tr style=\"text-align: right;\">\n",
       "      <th></th>\n",
       "      <th>Category</th>\n",
       "      <th>Message</th>\n",
       "    </tr>\n",
       "  </thead>\n",
       "  <tbody>\n",
       "    <tr>\n",
       "      <th>0</th>\n",
       "      <td>ham</td>\n",
       "      <td>Go until jurong point, crazy.. Available only ...</td>\n",
       "    </tr>\n",
       "    <tr>\n",
       "      <th>1</th>\n",
       "      <td>ham</td>\n",
       "      <td>Ok lar... Joking wif u oni...</td>\n",
       "    </tr>\n",
       "    <tr>\n",
       "      <th>2</th>\n",
       "      <td>spam</td>\n",
       "      <td>Free entry in 2 a wkly comp to win FA Cup fina...</td>\n",
       "    </tr>\n",
       "    <tr>\n",
       "      <th>3</th>\n",
       "      <td>ham</td>\n",
       "      <td>U dun say so early hor... U c already then say...</td>\n",
       "    </tr>\n",
       "    <tr>\n",
       "      <th>4</th>\n",
       "      <td>ham</td>\n",
       "      <td>Nah I don't think he goes to usf, he lives aro...</td>\n",
       "    </tr>\n",
       "  </tbody>\n",
       "</table>\n",
       "</div>"
      ],
      "text/plain": [
       "  Category                                            Message\n",
       "0      ham  Go until jurong point, crazy.. Available only ...\n",
       "1      ham                      Ok lar... Joking wif u oni...\n",
       "2     spam  Free entry in 2 a wkly comp to win FA Cup fina...\n",
       "3      ham  U dun say so early hor... U c already then say...\n",
       "4      ham  Nah I don't think he goes to usf, he lives aro..."
      ]
     },
     "execution_count": 3,
     "metadata": {},
     "output_type": "execute_result"
    }
   ],
   "source": [
    "raw_data = pd.read_csv(\"email_data.csv\")\n",
    "\n",
    "data = raw_data.where(pd.notnull(raw_data),'')\n",
    "\n",
    "data.head()"
   ]
  },
  {
   "cell_type": "code",
   "execution_count": 4,
   "id": "bb9ef023",
   "metadata": {},
   "outputs": [
    {
     "data": {
      "text/html": [
       "<div>\n",
       "<style scoped>\n",
       "    .dataframe tbody tr th:only-of-type {\n",
       "        vertical-align: middle;\n",
       "    }\n",
       "\n",
       "    .dataframe tbody tr th {\n",
       "        vertical-align: top;\n",
       "    }\n",
       "\n",
       "    .dataframe thead th {\n",
       "        text-align: right;\n",
       "    }\n",
       "</style>\n",
       "<table border=\"1\" class=\"dataframe\">\n",
       "  <thead>\n",
       "    <tr style=\"text-align: right;\">\n",
       "      <th></th>\n",
       "      <th>Category</th>\n",
       "      <th>Message</th>\n",
       "    </tr>\n",
       "  </thead>\n",
       "  <tbody>\n",
       "    <tr>\n",
       "      <th>0</th>\n",
       "      <td>1</td>\n",
       "      <td>Go until jurong point, crazy.. Available only ...</td>\n",
       "    </tr>\n",
       "    <tr>\n",
       "      <th>1</th>\n",
       "      <td>1</td>\n",
       "      <td>Ok lar... Joking wif u oni...</td>\n",
       "    </tr>\n",
       "    <tr>\n",
       "      <th>2</th>\n",
       "      <td>0</td>\n",
       "      <td>Free entry in 2 a wkly comp to win FA Cup fina...</td>\n",
       "    </tr>\n",
       "    <tr>\n",
       "      <th>3</th>\n",
       "      <td>1</td>\n",
       "      <td>U dun say so early hor... U c already then say...</td>\n",
       "    </tr>\n",
       "    <tr>\n",
       "      <th>4</th>\n",
       "      <td>1</td>\n",
       "      <td>Nah I don't think he goes to usf, he lives aro...</td>\n",
       "    </tr>\n",
       "    <tr>\n",
       "      <th>...</th>\n",
       "      <td>...</td>\n",
       "      <td>...</td>\n",
       "    </tr>\n",
       "    <tr>\n",
       "      <th>5567</th>\n",
       "      <td>0</td>\n",
       "      <td>This is the 2nd time we have tried 2 contact u...</td>\n",
       "    </tr>\n",
       "    <tr>\n",
       "      <th>5568</th>\n",
       "      <td>1</td>\n",
       "      <td>Will ü b going to esplanade fr home?</td>\n",
       "    </tr>\n",
       "    <tr>\n",
       "      <th>5569</th>\n",
       "      <td>1</td>\n",
       "      <td>Pity, * was in mood for that. So...any other s...</td>\n",
       "    </tr>\n",
       "    <tr>\n",
       "      <th>5570</th>\n",
       "      <td>1</td>\n",
       "      <td>The guy did some bitching but I acted like i'd...</td>\n",
       "    </tr>\n",
       "    <tr>\n",
       "      <th>5571</th>\n",
       "      <td>1</td>\n",
       "      <td>Rofl. Its true to its name</td>\n",
       "    </tr>\n",
       "  </tbody>\n",
       "</table>\n",
       "<p>5572 rows × 2 columns</p>\n",
       "</div>"
      ],
      "text/plain": [
       "     Category                                            Message\n",
       "0           1  Go until jurong point, crazy.. Available only ...\n",
       "1           1                      Ok lar... Joking wif u oni...\n",
       "2           0  Free entry in 2 a wkly comp to win FA Cup fina...\n",
       "3           1  U dun say so early hor... U c already then say...\n",
       "4           1  Nah I don't think he goes to usf, he lives aro...\n",
       "...       ...                                                ...\n",
       "5567        0  This is the 2nd time we have tried 2 contact u...\n",
       "5568        1               Will ü b going to esplanade fr home?\n",
       "5569        1  Pity, * was in mood for that. So...any other s...\n",
       "5570        1  The guy did some bitching but I acted like i'd...\n",
       "5571        1                         Rofl. Its true to its name\n",
       "\n",
       "[5572 rows x 2 columns]"
      ]
     },
     "execution_count": 4,
     "metadata": {},
     "output_type": "execute_result"
    }
   ],
   "source": [
    "data.loc[data[\"Category\"] == \"spam\" , [\"Category\"]] = 0\n",
    "\n",
    "data.loc[data[\"Category\"] == \"ham\" , [\"Category\"]] = 1\n",
    "\n",
    "data"
   ]
  },
  {
   "cell_type": "code",
   "execution_count": 5,
   "id": "f4f76253",
   "metadata": {},
   "outputs": [
    {
     "data": {
      "text/plain": [
       "(0       Go until jurong point, crazy.. Available only ...\n",
       " 1                           Ok lar... Joking wif u oni...\n",
       " 2       Free entry in 2 a wkly comp to win FA Cup fina...\n",
       " 3       U dun say so early hor... U c already then say...\n",
       " 4       Nah I don't think he goes to usf, he lives aro...\n",
       "                               ...                        \n",
       " 5567    This is the 2nd time we have tried 2 contact u...\n",
       " 5568                 Will ü b going to esplanade fr home?\n",
       " 5569    Pity, * was in mood for that. So...any other s...\n",
       " 5570    The guy did some bitching but I acted like i'd...\n",
       " 5571                           Rofl. Its true to its name\n",
       " Name: Message, Length: 5572, dtype: object,\n",
       " 0       1\n",
       " 1       1\n",
       " 2       0\n",
       " 3       1\n",
       " 4       1\n",
       "        ..\n",
       " 5567    0\n",
       " 5568    1\n",
       " 5569    1\n",
       " 5570    1\n",
       " 5571    1\n",
       " Name: Category, Length: 5572, dtype: object)"
      ]
     },
     "execution_count": 5,
     "metadata": {},
     "output_type": "execute_result"
    }
   ],
   "source": [
    "x = data[\"Message\"]\n",
    "\n",
    "y = data[\"Category\"]\n",
    "\n",
    "x,y"
   ]
  },
  {
   "cell_type": "markdown",
   "id": "c40c5d78",
   "metadata": {},
   "source": [
    "### Sentence analysis"
   ]
  },
  {
   "cell_type": "code",
   "execution_count": 6,
   "id": "c28b01df",
   "metadata": {},
   "outputs": [
    {
     "name": "stdout",
     "output_type": "stream",
     "text": [
      "<class 'pandas.core.series.Series'>\n"
     ]
    }
   ],
   "source": [
    "print(type(x))\n"
   ]
  },
  {
   "cell_type": "code",
   "execution_count": 7,
   "id": "e6438350",
   "metadata": {},
   "outputs": [
    {
     "name": "stdout",
     "output_type": "stream",
     "text": [
      "Max Tokens:  171\n",
      "Min Tokens:  1\n",
      "Average Tokens:  15.584170854271356\n",
      "\n",
      "5509 5509\n"
     ]
    },
    {
     "data": {
      "text/plain": [
       "(5572,)"
      ]
     },
     "execution_count": 7,
     "metadata": {},
     "output_type": "execute_result"
    }
   ],
   "source": [
    "sent_tokens = []\n",
    "sent_lens = []\n",
    "max_tokens = -1\n",
    "min_tokens = -1\n",
    "new_x = []\n",
    "new_y = []\n",
    "for i in range(len(x)):\n",
    "    text = x[i]\n",
    "    tokens = text.split()\n",
    "    sent_tokens.append(tokens)\n",
    "    sent_lens.append(len(tokens))\n",
    "    if len(tokens)>max_tokens:\n",
    "        max_tokens = len(tokens)\n",
    "        max_str = tokens\n",
    "    if len(tokens)<min_tokens or min_tokens==-1:\n",
    "        min_tokens = len(tokens)\n",
    "        min_str = tokens\n",
    "    if len(tokens) <= 50 : \n",
    "        new_x.append(text)\n",
    "        new_y.append(y[i])\n",
    "print(\"Max Tokens: \", max_tokens)\n",
    "print(\"Min Tokens: \", min_tokens)\n",
    "print(\"Average Tokens: \", sum(sent_lens)/len(sent_lens))\n",
    "print()\n",
    "print(len(new_x),len(new_y))\n",
    "x.shape"
   ]
  },
  {
   "cell_type": "code",
   "execution_count": 8,
   "id": "7dfb040e",
   "metadata": {},
   "outputs": [
    {
     "name": "stdout",
     "output_type": "stream",
     "text": [
      "# Bins:  83\n"
     ]
    }
   ],
   "source": [
    "sent_bins = {}\n",
    "for sent_len in sent_lens:\n",
    "    if sent_len not in sent_bins:\n",
    "        sent_bins[sent_len] = 1\n",
    "    else:\n",
    "        sent_bins[sent_len] += 1\n",
    "print(\"# Bins: \", len(sent_bins))\n",
    "    "
   ]
  },
  {
   "cell_type": "code",
   "execution_count": null,
   "id": "607ffb31",
   "metadata": {},
   "outputs": [],
   "source": []
  },
  {
   "cell_type": "code",
   "execution_count": 9,
   "id": "9a131313",
   "metadata": {},
   "outputs": [
    {
     "data": {
      "image/png": "[encoded data removed]",
      "text/plain": [
       "<Figure size 432x288 with 1 Axes>"
      ]
     },
     "metadata": {
      "needs_background": "light"
     },
     "output_type": "display_data"
    }
   ],
   "source": [
    "plt.bar(sent_bins.keys(), sent_bins.values())\n",
    "plt.xlabel(\"no of tokens\")\n",
    "plt.ylabel(\"count of sentences\")\n",
    "plt.grid()\n",
    "plt.show()"
   ]
  },
  {
   "cell_type": "markdown",
   "id": "6cdef6d8",
   "metadata": {},
   "source": [
    "## New Model\n"
   ]
  },
  {
   "cell_type": "code",
   "execution_count": 10,
   "id": "e1e8b092",
   "metadata": {},
   "outputs": [],
   "source": [
    "train_ds_x , test_ds_x , train_ds_y , test_ds_y = train_test_split(new_x , new_y , test_size = .2 , random_state=3)"
   ]
  },
  {
   "cell_type": "code",
   "execution_count": 11,
   "id": "3a8fa541",
   "metadata": {},
   "outputs": [],
   "source": [
    "data_trans = TfidfVectorizer(stop_words= 'english' , lowercase = 'True')"
   ]
  },
  {
   "cell_type": "code",
   "execution_count": 12,
   "id": "491ac953",
   "metadata": {},
   "outputs": [],
   "source": [
    "\n",
    "train_ds_x = data_trans.fit_transform(train_ds_x)\n",
    "test_ds_x = data_trans.transform(test_ds_x)\n"
   ]
  },
  {
   "cell_type": "code",
   "execution_count": 13,
   "id": "194da76d",
   "metadata": {},
   "outputs": [],
   "source": [
    "new_model = LogisticRegression()"
   ]
  },
  {
   "cell_type": "code",
   "execution_count": 14,
   "id": "086763ba",
   "metadata": {},
   "outputs": [
    {
     "data": {
      "text/plain": [
       "LogisticRegression()"
      ]
     },
     "execution_count": 14,
     "metadata": {},
     "output_type": "execute_result"
    }
   ],
   "source": [
    "new_model.fit(train_ds_x,train_ds_y)"
   ]
  },
  {
   "cell_type": "code",
   "execution_count": 15,
   "id": "178296a9",
   "metadata": {},
   "outputs": [
    {
     "data": {
      "text/plain": [
       "0.9668708872248696"
      ]
     },
     "execution_count": 15,
     "metadata": {},
     "output_type": "execute_result"
    }
   ],
   "source": [
    "accuracy_score( new_model.predict(train_ds_x) , train_ds_y)"
   ]
  },
  {
   "cell_type": "code",
   "execution_count": 16,
   "id": "42ed5eda",
   "metadata": {},
   "outputs": [
    {
     "data": {
      "text/plain": [
       "0.9600725952813067"
      ]
     },
     "execution_count": 16,
     "metadata": {},
     "output_type": "execute_result"
    }
   ],
   "source": [
    "accuracy_score( new_model.predict(test_ds_x) , test_ds_y)"
   ]
  },
  {
   "cell_type": "code",
   "execution_count": 17,
   "id": "2fc3d3f7",
   "metadata": {},
   "outputs": [
    {
     "name": "stdout",
     "output_type": "stream",
     "text": [
      "Congratulations, you have been gifted 0.5 BTC. Click here to claim it now!\n",
      "ham\n"
     ]
    }
   ],
   "source": [
    "if new_model.predict(data_trans.transform([input()])) :\n",
    "    print(\"ham\")\n",
    "else:\n",
    "    print(\"spam\")"
   ]
  },
  {
   "cell_type": "code",
   "execution_count": null,
   "id": "53feb7a9",
   "metadata": {},
   "outputs": [],
   "source": []
  },
  {
   "cell_type": "code",
   "execution_count": 18,
   "id": "ce19bee5",
   "metadata": {},
   "outputs": [],
   "source": [
    "x_train , x_test , y_train , y_test = train_test_split(x , y , test_size = .2 ,random_state = 3)"
   ]
  },
  {
   "cell_type": "code",
   "execution_count": 19,
   "id": "cbe783fa",
   "metadata": {},
   "outputs": [
    {
     "name": "stdout",
     "output_type": "stream",
     "text": [
      "3075                  Don know. I did't msg him recently.\n",
      "1787    Do you know why god created gap between your f...\n",
      "1614                         Thnx dude. u guys out 2nite?\n",
      "4304                                      Yup i'm free...\n",
      "3266    44 7732584351, Do you want a New Nokia 3510i c...\n",
      "                              ...                        \n",
      "789     5 Free Top Polyphonic Tones call 087018728737,...\n",
      "968     What do u want when i come back?.a beautiful n...\n",
      "1667    Guess who spent all last night phasing in and ...\n",
      "3321    Eh sorry leh... I din c ur msg. Not sad alread...\n",
      "1688    Free Top ringtone -sub to weekly ringtone-get ...\n",
      "Name: Message, Length: 4457, dtype: object\n",
      "(1115,)\n",
      "(4457,)\n",
      "(1115,)\n"
     ]
    }
   ],
   "source": [
    "print(x_train)\n",
    "print(x_test.shape)\n",
    "print(y_train.shape)\n",
    "print(y_test.shape)"
   ]
  },
  {
   "cell_type": "code",
   "execution_count": 20,
   "id": "0b9eec7d",
   "metadata": {},
   "outputs": [
    {
     "data": {
      "text/plain": [
       "TfidfVectorizer(lowercase='True', stop_words='english')"
      ]
     },
     "execution_count": 20,
     "metadata": {},
     "output_type": "execute_result"
    }
   ],
   "source": [
    "data_transform = TfidfVectorizer(lowercase = 'True',stop_words = 'english')\n",
    "\n",
    "data_transform"
   ]
  },
  {
   "cell_type": "code",
   "execution_count": 21,
   "id": "6b5fcf3b",
   "metadata": {},
   "outputs": [],
   "source": [
    "x_train_transform = data_transform.fit_transform(x_train)\n",
    "\n",
    "x_test_transform = data_transform.transform(x_test)\n",
    "\n",
    "y_train_transform = y_train.astype('int')\n",
    "\n",
    "y_test_transform = y_test.astype('int')"
   ]
  },
  {
   "cell_type": "code",
   "execution_count": 22,
   "id": "63fd2eab",
   "metadata": {},
   "outputs": [],
   "source": [
    "model = LogisticRegression()"
   ]
  },
  {
   "cell_type": "code",
   "execution_count": 23,
   "id": "b7cfc7c4",
   "metadata": {},
   "outputs": [
    {
     "data": {
      "text/plain": [
       "LogisticRegression()"
      ]
     },
     "execution_count": 23,
     "metadata": {},
     "output_type": "execute_result"
    }
   ],
   "source": [
    "model.fit(x_train_transform , y_train_transform)"
   ]
  },
  {
   "cell_type": "code",
   "execution_count": 24,
   "id": "1cc0264f",
   "metadata": {},
   "outputs": [
    {
     "name": "stdout",
     "output_type": "stream",
     "text": [
      "3075    1\n",
      "1787    1\n",
      "1614    1\n",
      "4304    1\n",
      "3266    0\n",
      "       ..\n",
      "789     0\n",
      "968     1\n",
      "1667    1\n",
      "3321    1\n",
      "1688    0\n",
      "Name: Category, Length: 4457, dtype: int32\n",
      "[1 1 1 ... 1 1 0]\n"
     ]
    },
    {
     "data": {
      "text/plain": [
       "0.9670181736594121"
      ]
     },
     "execution_count": 24,
     "metadata": {},
     "output_type": "execute_result"
    }
   ],
   "source": [
    "training_prediction = model.predict(x_train_transform) \n",
    "\n",
    "print(y_train_transform)\n",
    "\n",
    "print(training_prediction)\n",
    "\n",
    "training_accuracy = accuracy_score(training_prediction , y_train_transform)\n",
    "\n",
    "training_accuracy"
   ]
  },
  {
   "cell_type": "code",
   "execution_count": 25,
   "id": "8362b1b9",
   "metadata": {},
   "outputs": [
    {
     "data": {
      "text/plain": [
       "0.9659192825112107"
      ]
     },
     "execution_count": 25,
     "metadata": {},
     "output_type": "execute_result"
    }
   ],
   "source": [
    "test_accuracy = accuracy_score(model.predict(x_test_transform) , y_test_transform)\n",
    "\n",
    "test_accuracy"
   ]
  },
  {
   "cell_type": "code",
   "execution_count": 26,
   "id": "be4d46c7",
   "metadata": {},
   "outputs": [
    {
     "name": "stdout",
     "output_type": "stream",
     "text": [
      "Congratulations, you have been gifted 0.5 BTC. Click here to claim it now!\n",
      "\n",
      "HAM MAIL\n"
     ]
    }
   ],
   "source": [
    "mail = [input()]\n",
    "\n",
    "\n",
    "mail = data_transform.transform(mail)\n",
    "\n",
    "prediction = model.predict(mail)\n",
    "\n",
    "print()\n",
    "if prediction[0]==1:\n",
    "    print(\"HAM MAIL\")\n",
    "else:\n",
    "    print(\"SPAM MAIL\")\n"
   ]
  },
  {
   "cell_type": "code",
   "execution_count": null,
   "id": "19b61c0f",
   "metadata": {},
   "outputs": [],
   "source": []
  },
  {
   "cell_type": "code",
   "execution_count": 27,
   "id": "dc13c84c",
   "metadata": {},
   "outputs": [
    {
     "name": "stdout",
     "output_type": "stream",
     "text": [
      "max no of words :  50\n",
      "min no of words :  1\n",
      "avg :  14.931021964058813\n"
     ]
    }
   ],
   "source": [
    "new_sent = []\n",
    "word_count = []\n",
    "max_words = 0\n",
    "min_words = 0\n",
    "for i in new_x :\n",
    "    token_list = i.split()\n",
    "    new_sent.append(token_list)\n",
    "    count = len(token_list)\n",
    "    word_count.append(count)\n",
    "    if max_words < count:\n",
    "        max_words = count\n",
    "    if min_words > count or min_words == 0:\n",
    "        min_words = count\n",
    "print(\"max no of words : \",max_words)\n",
    "print(\"min no of words : \",min_words)\n",
    "print(\"avg : \",sum(word_count)/len(word_count))"
   ]
  },
  {
   "cell_type": "code",
   "execution_count": 28,
   "id": "fb58c657",
   "metadata": {},
   "outputs": [
    {
     "data": {
      "image/png": "[encoded data removed]",
      "text/plain": [
       "<Figure size 432x288 with 1 Axes>"
      ]
     },
     "metadata": {
      "needs_background": "light"
     },
     "output_type": "display_data"
    },
    {
     "data": {
      "text/plain": [
       "50"
      ]
     },
     "execution_count": 28,
     "metadata": {},
     "output_type": "execute_result"
    }
   ],
   "source": [
    "from collections import Counter\n",
    "bin2 = dict(Counter(word_count))\n",
    "plt.bar(bin2.keys() , bin2.values())\n",
    "plt.xlabel(\"no of tokens\")\n",
    "plt.ylabel(\"count of sentences\")\n",
    "plt.show()\n",
    "len(bin2)"
   ]
  },
  {
   "cell_type": "code",
   "execution_count": null,
   "id": "18ff66ba",
   "metadata": {},
   "outputs": [],
   "source": []
  },
  {
   "cell_type": "code",
   "execution_count": null,
   "id": "9911e331",
   "metadata": {},
   "outputs": [],
   "source": []
  }
 ],
 "metadata": {
  "kernelspec": {
   "display_name": "Python 3",
   "language": "python",
   "name": "python3"
  },
  "language_info": {
   "codemirror_mode": {
    "name": "ipython",
    "version": 3
   },
   "file_extension": ".py",
   "mimetype": "text/x-python",
   "name": "python",
   "nbconvert_exporter": "python",
   "pygments_lexer": "ipython3",
   "version": "3.8.8"
  }
 },
 "nbformat": 4,
 "nbformat_minor": 5
}
